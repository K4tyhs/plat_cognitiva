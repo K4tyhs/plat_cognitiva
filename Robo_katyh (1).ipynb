{
  "nbformat": 4,
  "nbformat_minor": 0,
  "metadata": {
    "colab": {
      "provenance": []
    },
    "kernelspec": {
      "name": "python3",
      "display_name": "Python 3"
    },
    "language_info": {
      "name": "python"
    }
  },
  "cells": [
    {
      "cell_type": "markdown",
      "source": [],
      "metadata": {
        "id": "jaqOvhcsJLI-"
      }
    },
    {
      "cell_type": "markdown",
      "source": [
        "Katiely de Jesus Silva\n",
        "RA 23011355\n",
        "\n",
        "\n"
      ],
      "metadata": {
        "id": "0PV7TcHlVMKj"
      }
    },
    {
      "cell_type": "code",
      "source": [
        "import requests\n",
        "import json"
      ],
      "metadata": {
        "id": "2JNQEoPPVYzk"
      },
      "execution_count": 11,
      "outputs": []
    },
    {
      "cell_type": "code",
      "source": [
        "print(\"Seja bem vindo!!\")\n",
        "print(\"\"\"INSTRUÇÕES\n",
        "  1º Digite seu último digito do R.A, pois de acordo com ele você poderá descobir qual camera poderá utilizar!\n",
        "  2º Se sua camera for utilizada por mais de um robô, você podera escolher qual quer usar.\n",
        "  3º Informe qual camera será utilizada(Nome dela).\n",
        "  \"\"\")\n"
      ],
      "metadata": {
        "colab": {
          "base_uri": "https://localhost:8080/"
        },
        "id": "rTbPhhUu4qPV",
        "outputId": "6ce89149-76bd-489f-8cc9-fefc9477b582"
      },
      "execution_count": 12,
      "outputs": [
        {
          "output_type": "stream",
          "name": "stdout",
          "text": [
            "Seja bem vindo!!\n",
            "INSTRUÇÕES\n",
            "  1º Digite seu último digito do R.A, pois de acordo com ele você poderá descobir qual camera poderá utilizar!\n",
            "  2º Se sua camera for utilizada por mais de um robô, você podera escolher qual quer usar.\n",
            "  3º Informe qual camera será utilizada(Nome dela).\n",
            "  \n"
          ]
        }
      ]
    },
    {
      "cell_type": "code",
      "source": [
        "ultimo_digito = int(input(\"Digite o ultimo digito do seu RA: \"))\n",
        "print(ultimo_digito)"
      ],
      "metadata": {
        "colab": {
          "base_uri": "https://localhost:8080/"
        },
        "id": "UMCb1gpdWHik",
        "outputId": "f7eebb64-d1a3-426d-ffbe-c0d49ef111c3"
      },
      "execution_count": 13,
      "outputs": [
        {
          "output_type": "stream",
          "name": "stdout",
          "text": [
            "Digite o ultimo digito do seu RA: 7\n",
            "7\n"
          ]
        }
      ]
    },
    {
      "cell_type": "code",
      "source": [
        "if ultimo_digito == 1:\n",
        "    print(\"Sua camera é a FHAZ\")\n",
        "    print(\"Você possui 3 escolhas de qual robô irá utilizar: \")\n",
        "    print(\"\"\"\n",
        "    1 - curiosity\n",
        "    2 - opportunity\n",
        "    3 - spirit\"\"\")\n",
        "    robo = input(\"Escreva o nome do robô escolhido: \")\n",
        "    robo_entrada = robo.lower()\n",
        "\n",
        "elif ultimo_digito == 2:\n",
        "    print(\"Sua camera é a RHAZ\")\n",
        "    print(\"Você possui 3 escolhas de qual robô irá utilizar: \")\n",
        "    print(\"\"\"\n",
        "    1 - curiosity\n",
        "    2 - opportunity\n",
        "    3 - spirit\"\"\")\n",
        "    robo = input(\"Escreva o nome do robô escolhido: \")\n",
        "    robo_entrada = robo.lower()\n",
        "\n",
        "elif ultimo_digito == 3:\n",
        "    print(\"Sua camera é a MAST\")\n",
        "    print(\"Você possui apenas uma escolha: \")\n",
        "    print(\"curiosity\")\n",
        "    robo = input(\"Escreva o nome do robô escolhido: \")\n",
        "    robo_entrada = robo.lower()\n",
        "\n",
        "elif ultimo_digito == 4:\n",
        "    print(\"Sua camera é a CHEMCAM\")\n",
        "    print(\"Você possui apenas uma escolha: \")\n",
        "    print(\"curiosity\")\n",
        "    robo = input(\"Escreva o nome do robô escolhido: \")\n",
        "    robo_entrada = robo.lower()\n",
        "\n",
        "elif ultimo_digito == 5:\n",
        "    print(\"Sua camera é a MAHLI\")\n",
        "    print(\"Você possui apenas uma escolha: \")\n",
        "    print(\"curiosity\")\n",
        "    robo = input(\"Escreva o nome do robô escolhido: \")\n",
        "    robo_entrada = robo.lower()\n",
        "\n",
        "elif ultimo_digito == 6:\n",
        "    print(\"Sua camera é a MARDI\")\n",
        "    print(\"Você possui apenas uma escolha: \")\n",
        "    print(\"curiosity\")\n",
        "    robo = input(\"Escreva o nome do robô escolhido: \")\n",
        "    robo_entrada = robo.lower()\n",
        "\n",
        "elif ultimo_digito == 7:\n",
        "    print(\"Sua camera é a NAVCAM\")\n",
        "    print(\"Você possui 3 escolhas de qual robô irá utilizar: \")\n",
        "    print(\"\"\"\n",
        "    1 - curiosity\n",
        "    2 - opportunity\n",
        "    3 - spirit\"\"\")\n",
        "    robo = input(\"Escreva o nome do robô escolhido: \")\n",
        "    robo_entrada = robo.lower()\n",
        "\n",
        "elif ultimo_digito == 8:\n",
        "    print(\"Sua camera é a PANCAM\")\n",
        "    print(\"Você possui 2 escolhas de qual robô irá utilizar: \")\n",
        "    print(\"\"\"\n",
        "    1 - opportunity\n",
        "    2 - spirit\"\"\")\n",
        "    robo = input(\"Escreva o nome do robô escolhido: \")\n",
        "    robo_entrada = robo.lower()\n",
        "\n",
        "elif ultimo_digito == 9 and ultimo_digito == 0:\n",
        "    print(\"Sua camera é a MINITES\")\n",
        "    print(\"Você possui 2 escolhas de qual robô irá utilizar: \")\n",
        "    print(\"\"\"\n",
        "    1 - opportunity\n",
        "    2 - spirit\"\"\")\n",
        "    robo = input(\"Escreva o nome do robô escolhido: \")\n",
        "    robo_entrada = robo.lower()\n"
      ],
      "metadata": {
        "colab": {
          "base_uri": "https://localhost:8080/"
        },
        "id": "Zv3KXkPl9SIc",
        "outputId": "da6e3b9b-7595-46d8-ed17-c1fec9653709"
      },
      "execution_count": 14,
      "outputs": [
        {
          "name": "stdout",
          "output_type": "stream",
          "text": [
            "Sua camera é a NAVCAM\n",
            "Você possui 3 escolhas de qual robô irá utilizar: \n",
            "\n",
            "    1 - curiosity\n",
            "    2 - opportunity\n",
            "    3 - spirit\n",
            "Escreva o nome do robô escolhido: curiosity\n"
          ]
        }
      ]
    },
    {
      "cell_type": "code",
      "source": [
        "camera = input(\"Digie o nome de sua câmera: \")\n",
        "camera_entrada = camera.lower()\n",
        "print(camera_entrada)"
      ],
      "metadata": {
        "colab": {
          "base_uri": "https://localhost:8080/"
        },
        "id": "gzZdDXIrCxFa",
        "outputId": "05f26d5a-1cb5-4f72-ab24-c504d7b38873"
      },
      "execution_count": 15,
      "outputs": [
        {
          "output_type": "stream",
          "name": "stdout",
          "text": [
            "Digie o nome de sua câmera: navcam\n",
            "navcam\n"
          ]
        }
      ]
    },
    {
      "cell_type": "code",
      "source": [
        "resposta = requests.get(f\"https://api.nasa.gov/mars-photos/api/v1/rovers/{robo_entrada}/photos?sol=1000&camera={camera_entrada}&page=2&api_key=DEMO_KEY\")\n",
        "print(resposta)\n",
        "x = resposta.json()\n",
        "print(f\"Sua imagem é: {x['photos'][0]['img_src']}\")\n",
        "print(f\"O dia que a foto foi tirado (na Terra) é: {x['photos'][0]['earth_date']}\")"
      ],
      "metadata": {
        "id": "ZzRb2njsWzkD",
        "colab": {
          "base_uri": "https://localhost:8080/",
          "height": 211
        },
        "outputId": "6116b7c1-1edd-4f35-d53d-317f31ed02f4"
      },
      "execution_count": 44,
      "outputs": [
        {
          "output_type": "stream",
          "name": "stdout",
          "text": [
            "<Response [200]>\n"
          ]
        },
        {
          "output_type": "error",
          "ename": "IndexError",
          "evalue": "list index out of range",
          "traceback": [
            "\u001b[0;31m---------------------------------------------------------------------------\u001b[0m",
            "\u001b[0;31mIndexError\u001b[0m                                Traceback (most recent call last)",
            "\u001b[0;32m<ipython-input-44-bcb37c06b1a3>\u001b[0m in \u001b[0;36m<cell line: 4>\u001b[0;34m()\u001b[0m\n\u001b[1;32m      2\u001b[0m \u001b[0mprint\u001b[0m\u001b[0;34m(\u001b[0m\u001b[0mresposta\u001b[0m\u001b[0;34m)\u001b[0m\u001b[0;34m\u001b[0m\u001b[0;34m\u001b[0m\u001b[0m\n\u001b[1;32m      3\u001b[0m \u001b[0mx\u001b[0m \u001b[0;34m=\u001b[0m \u001b[0mresposta\u001b[0m\u001b[0;34m.\u001b[0m\u001b[0mjson\u001b[0m\u001b[0;34m(\u001b[0m\u001b[0;34m)\u001b[0m\u001b[0;34m\u001b[0m\u001b[0;34m\u001b[0m\u001b[0m\n\u001b[0;32m----> 4\u001b[0;31m \u001b[0mprint\u001b[0m\u001b[0;34m(\u001b[0m\u001b[0;34mf\"Sua imagem é: {x['photos'][0]['img_src']}\"\u001b[0m\u001b[0;34m)\u001b[0m\u001b[0;34m\u001b[0m\u001b[0;34m\u001b[0m\u001b[0m\n\u001b[0m\u001b[1;32m      5\u001b[0m \u001b[0mprint\u001b[0m\u001b[0;34m(\u001b[0m\u001b[0;34mf\"O dia que a foto foi tirado (na Terra) é: {x['photos'][0]['earth_date']}\"\u001b[0m\u001b[0;34m)\u001b[0m\u001b[0;34m\u001b[0m\u001b[0;34m\u001b[0m\u001b[0m\n",
            "\u001b[0;31mIndexError\u001b[0m: list index out of range"
          ]
        }
      ]
    }
  ]
}